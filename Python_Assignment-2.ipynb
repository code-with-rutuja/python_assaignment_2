{
 "cells": [
  {
   "cell_type": "markdown",
   "id": "8d7ab3bd",
   "metadata": {},
   "source": [
    "# Python Assignment - 2\n",
    "### Total - 30 marks"
   ]
  },
  {
   "cell_type": "markdown",
   "id": "6984940a",
   "metadata": {},
   "source": [
    "#### 1. Create a list of student and their subjects and then print the count of the subjects each student is having."
   ]
  },
  {
   "cell_type": "markdown",
   "id": "2167cbb2",
   "metadata": {},
   "source": [
    "Ex: List should be of the this format \n",
    " [('Justin', ['Math', 'CompSci']),\n",
    " ('Eden', ['CompSci', 'Accounting', 'Economics'])]\n",
    " \n",
    " and the output be like,\n",
    " \n",
    "Justin takes 2 subjects\n",
    "Eden takes 3 subjects"
   ]
  },
  {
   "cell_type": "code",
   "execution_count": 2,
   "id": "c7115c59",
   "metadata": {},
   "outputs": [
    {
     "name": "stdout",
     "output_type": "stream",
     "text": [
      "pratham  takes: 2\n",
      "sahil  takes: 3\n"
     ]
    }
   ],
   "source": [
    "# You can Code here for the above problem:\n",
    "classroom = [(\"pratham\", ['chemistry','compsci']), (\"sahil\", ['physics','zoology','botany'])]\n",
    "for (students, sub) in classroom:\n",
    "    subject_count = len(sub)\n",
    "    print(students, \" \" 'takes:', subject_count)"
   ]
  },
  {
   "cell_type": "markdown",
   "id": "44bb9ea8",
   "metadata": {},
   "source": [
    "#### 2. Count the total number of digits in a number (ex: A mobile number)"
   ]
  },
  {
   "cell_type": "markdown",
   "id": "1d2ab3cb",
   "metadata": {},
   "source": [
    "Ex:\n",
    "number be like some random mobile number,\n",
    "\n",
    "9848000000\n",
    "\n",
    "the count of the this should be 10"
   ]
  },
  {
   "cell_type": "code",
   "execution_count": 1,
   "id": "747e9a6d",
   "metadata": {},
   "outputs": [
    {
     "name": "stdout",
     "output_type": "stream",
     "text": [
      "enter your phone number 6789000002\n",
      "length of mobile number is  10\n"
     ]
    }
   ],
   "source": [
    "# You can Code here for the above problem:\n",
    "phone_number = input(\"enter your phone number \")\n",
    "\n",
    "length = len(phone_number)\n",
    "print(\"length of mobile number is \", length)"
   ]
  },
  {
   "cell_type": "markdown",
   "id": "3502e833",
   "metadata": {},
   "source": [
    "#### 3. Create a for loop that prompts the user for a skill 3 times, then print the appended skills."
   ]
  },
  {
   "cell_type": "code",
   "execution_count": null,
   "id": "dd835b29",
   "metadata": {},
   "outputs": [],
   "source": [
    "# You can Code here for the above problem:\n",
    "for index in range(3):\n",
    "    number1 = int(input())"
   ]
  },
  {
   "cell_type": "code",
   "execution_count": null,
   "id": "a320fdd9",
   "metadata": {},
   "outputs": [],
   "source": []
  },
  {
   "cell_type": "code",
   "execution_count": null,
   "id": "a0814a66",
   "metadata": {},
   "outputs": [],
   "source": []
  },
  {
   "cell_type": "code",
   "execution_count": null,
   "id": "2f6067a3",
   "metadata": {},
   "outputs": [],
   "source": []
  },
  {
   "cell_type": "markdown",
   "id": "309395ff",
   "metadata": {},
   "source": [
    "#### 4. Define your commercial computation program with hourly rate for usual timings and extra for overtime. Create a function called commercials_calculator which takes two parameters (hours and rate).\n",
    "\n",
    "Enter Hours: 45\n",
    "\n",
    "Enter Rate: 10\n",
    "\n",
    "Pay: 475.0"
   ]
  },
  {
   "cell_type": "code",
   "execution_count": 5,
   "id": "fe142f76",
   "metadata": {},
   "outputs": [],
   "source": [
    "# You can Code here for the above problem:\n"
   ]
  },
  {
   "cell_type": "code",
   "execution_count": null,
   "id": "48928dc7",
   "metadata": {},
   "outputs": [],
   "source": []
  }
 ],
 "metadata": {
  "kernelspec": {
   "display_name": "Python 3 (ipykernel)",
   "language": "python",
   "name": "python3"
  },
  "language_info": {
   "codemirror_mode": {
    "name": "ipython",
    "version": 3
   },
   "file_extension": ".py",
   "mimetype": "text/x-python",
   "name": "python",
   "nbconvert_exporter": "python",
   "pygments_lexer": "ipython3",
   "version": "3.11.4"
  }
 },
 "nbformat": 4,
 "nbformat_minor": 5
}
